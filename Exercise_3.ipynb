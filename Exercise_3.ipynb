{
 "cells": [
  {
   "cell_type": "code",
   "execution_count": 26,
   "id": "98bc62ca",
   "metadata": {},
   "outputs": [],
   "source": [
    "def bomber_man(n, grid):\n",
    "    grid = [list(row) for row in grid]\n",
    "    R, C = len(grid), len(grid[0])\n",
    "    for i in range(R):\n",
    "        for j in range(C):\n",
    "            if grid[i][j] == 'O':\n",
    "                grid[i][j] = 1\n",
    "            else:\n",
    "                grid[i][j] = 0\n",
    "                \n",
    "    for t in range(2, n+2):\n",
    "        if t % 2 == 0:\n",
    "            for i in range(R):\n",
    "                for j in range(C):\n",
    "                    if grid[i][j] == 0:\n",
    "                        grid[i][j] = t\n",
    "                    elif grid[i][j] == t-3:\n",
    "                        grid[i][j] = 0\n",
    "                        if i > 0:\n",
    "                            if grid[i-1][j] != t-3 and grid[i-1][j] != 0:\n",
    "                                grid[i-1][j] = 0\n",
    "                            elif grid[i-1][j] != t-3 and grid[i-1][j] == 0:\n",
    "                                grid[i-1][j] = t\n",
    "                        if j > 0:\n",
    "                            if grid[i][j-1] != t-3 and grid[i][j-1] != 0:\n",
    "                                grid[i][j-1] = 0\n",
    "                            elif grid[i][j-1] != t-3 and grid[i][j-1] == 0:\n",
    "                                grid[i][j-1] = t\n",
    "                        if i < R-1:\n",
    "                            if grid[i+1][j] != t-3 and grid[i+1][j] != 0:\n",
    "                                grid[i+1][j] = 0\n",
    "                            elif grid[i+1][j] != t-3 and grid[i+1][j] == 0:\n",
    "                                grid[i+1][j] = t\n",
    "                        if j < C-1:\n",
    "                            if grid[i][j+1] != t-3 and grid[i][j+1] != 0:\n",
    "                                grid[i][j+1] = 0\n",
    "                            elif grid[i][j+1] != t-3 and grid[i][j+1] == 0:\n",
    "                                grid[i][j+1] = t\n",
    "\n",
    "    for i in range(R):\n",
    "        for j in range(C):\n",
    "            if grid[i][j] == 0:\n",
    "                grid[i][j] = '.'\n",
    "            else:\n",
    "                grid[i][j] = 'O'\n",
    "    \n",
    "    return [''.join(row) for row in grid]"
   ]
  },
  {
   "cell_type": "code",
   "execution_count": 27,
   "id": "0929e32e",
   "metadata": {},
   "outputs": [
    {
     "name": "stdout",
     "output_type": "stream",
     "text": [
      "OOOOOO.OOOOOO\n",
      "OOOOO..O.OOOO\n",
      "OOOOOOO..OOOO\n",
      ".O.OOOOOOOOOO\n",
      "O.OOOOOOOOOOO\n",
      "...OOOOOOOOOO\n"
     ]
    }
   ],
   "source": [
    "n = 3\n",
    "grid = [\n",
    "    \". . . . . . .\",\n",
    "    \". . . O . . .\",\n",
    "    \". . . . O . .\",\n",
    "    \". . . . . . .\",\n",
    "    \"O O . . . . .\",\n",
    "    \"O O . . . . .\"\n",
    "]\n",
    "\n",
    "result = bomber_man(n, grid)\n",
    "for row in result:\n",
    "    print(row)"
   ]
  },
  {
   "cell_type": "code",
   "execution_count": null,
   "id": "06e649a6",
   "metadata": {},
   "outputs": [],
   "source": []
  },
  {
   "cell_type": "code",
   "execution_count": null,
   "id": "b9884f9e",
   "metadata": {},
   "outputs": [],
   "source": []
  }
 ],
 "metadata": {
  "kernelspec": {
   "display_name": "Python 3 (ipykernel)",
   "language": "python",
   "name": "python3"
  },
  "language_info": {
   "codemirror_mode": {
    "name": "ipython",
    "version": 3
   },
   "file_extension": ".py",
   "mimetype": "text/x-python",
   "name": "python",
   "nbconvert_exporter": "python",
   "pygments_lexer": "ipython3",
   "version": "3.9.12"
  }
 },
 "nbformat": 4,
 "nbformat_minor": 5
}
